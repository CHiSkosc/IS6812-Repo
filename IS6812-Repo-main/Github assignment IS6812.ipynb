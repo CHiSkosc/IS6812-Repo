{
 "cells": [
  {
   "cell_type": "markdown",
   "id": "c9696447-70d7-4975-a011-3ad246ae7f1e",
   "metadata": {},
   "source": [
    "Github assignment \n",
    "IS6812"
   ]
  },
  {
   "cell_type": "code",
   "execution_count": null,
   "id": "11141f74-84c3-449e-82e7-f4189ebd458e",
   "metadata": {},
   "outputs": [],
   "source": []
  }
 ],
 "metadata": {
  "kernelspec": {
   "display_name": "Python [conda env:base] *",
   "language": "python",
   "name": "conda-base-py"
  },
  "language_info": {
   "codemirror_mode": {
    "name": "ipython",
    "version": 3
   },
   "file_extension": ".py",
   "mimetype": "text/x-python",
   "name": "python",
   "nbconvert_exporter": "python",
   "pygments_lexer": "ipython3",
   "version": "3.12.7"
  }
 },
 "nbformat": 4,
 "nbformat_minor": 5
}
